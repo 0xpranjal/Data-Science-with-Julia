{
 "cells": [
  {
   "cell_type": "code",
   "execution_count": 1,
   "metadata": {},
   "outputs": [],
   "source": [
    "using Pkg"
   ]
  },
  {
   "cell_type": "code",
   "execution_count": 2,
   "metadata": {},
   "outputs": [
    {
     "name": "stderr",
     "output_type": "stream",
     "text": [
      "\u001b[32m\u001b[1m   Updating\u001b[22m\u001b[39m registry at `~/.julia/registries/General`\n",
      "######################################################################### 100.0%\n",
      "\u001b[32m\u001b[1m  Resolving\u001b[22m\u001b[39m package versions...\n",
      "\u001b[32m\u001b[1m  Installed\u001b[22m\u001b[39m WeakRefStrings ─ v0.6.2\n",
      "\u001b[32m\u001b[1m  Installed\u001b[22m\u001b[39m SQLite_jll ───── v3.32.3+0\n",
      "\u001b[32m\u001b[1m  Installed\u001b[22m\u001b[39m DBInterface ──── v2.2.0\n",
      "\u001b[32m\u001b[1m  Installed\u001b[22m\u001b[39m BinaryProvider ─ v0.5.10\n",
      "\u001b[32m\u001b[1m  Installed\u001b[22m\u001b[39m SQLite ───────── v1.0.5\n",
      "\u001b[32m\u001b[1mUpdating\u001b[22m\u001b[39m `~/.julia/environments/v1.5/Project.toml`\n",
      " \u001b[90m [0aa819cd] \u001b[39m\u001b[92m+ SQLite v1.0.5\u001b[39m\n",
      "\u001b[32m\u001b[1mUpdating\u001b[22m\u001b[39m `~/.julia/environments/v1.5/Manifest.toml`\n",
      " \u001b[90m [b99e7846] \u001b[39m\u001b[92m+ BinaryProvider v0.5.10\u001b[39m\n",
      " \u001b[90m [a10d1c49] \u001b[39m\u001b[92m+ DBInterface v2.2.0\u001b[39m\n",
      " \u001b[90m [0aa819cd] \u001b[39m\u001b[92m+ SQLite v1.0.5\u001b[39m\n",
      " \u001b[90m [76ed43ae] \u001b[39m\u001b[92m+ SQLite_jll v3.32.3+0\u001b[39m\n",
      " \u001b[90m [ea10d353] \u001b[39m\u001b[92m+ WeakRefStrings v0.6.2\u001b[39m\n",
      "\u001b[32m\u001b[1m   Building\u001b[22m\u001b[39m SQLite → `~/.julia/packages/SQLite/LjMUn/deps/build.log`\n"
     ]
    }
   ],
   "source": [
    "Pkg.add(\"SQLite\")"
   ]
  },
  {
   "cell_type": "code",
   "execution_count": null,
   "metadata": {},
   "outputs": [],
   "source": []
  }
 ],
 "metadata": {
  "kernelspec": {
   "display_name": "Julia 1.5.1",
   "language": "julia",
   "name": "julia-1.5"
  },
  "language_info": {
   "file_extension": ".jl",
   "mimetype": "application/julia",
   "name": "julia",
   "version": "1.5.2"
  }
 },
 "nbformat": 4,
 "nbformat_minor": 4
}
