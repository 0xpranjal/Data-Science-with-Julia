{
 "cells": [
  {
   "cell_type": "code",
   "execution_count": 9,
   "metadata": {},
   "outputs": [],
   "source": [
    "using CSV"
   ]
  },
  {
   "cell_type": "code",
   "execution_count": 10,
   "metadata": {},
   "outputs": [],
   "source": [
    "using Pkg"
   ]
  },
  {
   "cell_type": "code",
   "execution_count": 16,
   "metadata": {
    "scrolled": true
   },
   "outputs": [
    {
     "data": {
      "text/html": [
       "<table class=\"data-frame\"><thead><tr><th></th><th>sepal_length</th><th>sepal_width</th><th>petal_length</th><th>petal_width</th><th>species</th></tr><tr><th></th><th>Float64</th><th>Float64</th><th>Float64</th><th>Float64</th><th>String</th></tr></thead><tbody><p>150 rows × 5 columns</p><tr><th>1</th><td>5.1</td><td>3.5</td><td>1.4</td><td>0.2</td><td>setosa</td></tr><tr><th>2</th><td>4.9</td><td>3.0</td><td>1.4</td><td>0.2</td><td>setosa</td></tr><tr><th>3</th><td>4.7</td><td>3.2</td><td>1.3</td><td>0.2</td><td>setosa</td></tr><tr><th>4</th><td>4.6</td><td>3.1</td><td>1.5</td><td>0.2</td><td>setosa</td></tr><tr><th>5</th><td>5.0</td><td>3.6</td><td>1.4</td><td>0.2</td><td>setosa</td></tr><tr><th>6</th><td>5.4</td><td>3.9</td><td>1.7</td><td>0.4</td><td>setosa</td></tr><tr><th>7</th><td>4.6</td><td>3.4</td><td>1.4</td><td>0.3</td><td>setosa</td></tr><tr><th>8</th><td>5.0</td><td>3.4</td><td>1.5</td><td>0.2</td><td>setosa</td></tr><tr><th>9</th><td>4.4</td><td>2.9</td><td>1.4</td><td>0.2</td><td>setosa</td></tr><tr><th>10</th><td>4.9</td><td>3.1</td><td>1.5</td><td>0.1</td><td>setosa</td></tr><tr><th>11</th><td>5.4</td><td>3.7</td><td>1.5</td><td>0.2</td><td>setosa</td></tr><tr><th>12</th><td>4.8</td><td>3.4</td><td>1.6</td><td>0.2</td><td>setosa</td></tr><tr><th>13</th><td>4.8</td><td>3.0</td><td>1.4</td><td>0.1</td><td>setosa</td></tr><tr><th>14</th><td>4.3</td><td>3.0</td><td>1.1</td><td>0.1</td><td>setosa</td></tr><tr><th>15</th><td>5.8</td><td>4.0</td><td>1.2</td><td>0.2</td><td>setosa</td></tr><tr><th>16</th><td>5.7</td><td>4.4</td><td>1.5</td><td>0.4</td><td>setosa</td></tr><tr><th>17</th><td>5.4</td><td>3.9</td><td>1.3</td><td>0.4</td><td>setosa</td></tr><tr><th>18</th><td>5.1</td><td>3.5</td><td>1.4</td><td>0.3</td><td>setosa</td></tr><tr><th>19</th><td>5.7</td><td>3.8</td><td>1.7</td><td>0.3</td><td>setosa</td></tr><tr><th>20</th><td>5.1</td><td>3.8</td><td>1.5</td><td>0.3</td><td>setosa</td></tr><tr><th>21</th><td>5.4</td><td>3.4</td><td>1.7</td><td>0.2</td><td>setosa</td></tr><tr><th>22</th><td>5.1</td><td>3.7</td><td>1.5</td><td>0.4</td><td>setosa</td></tr><tr><th>23</th><td>4.6</td><td>3.6</td><td>1.0</td><td>0.2</td><td>setosa</td></tr><tr><th>24</th><td>5.1</td><td>3.3</td><td>1.7</td><td>0.5</td><td>setosa</td></tr><tr><th>25</th><td>4.8</td><td>3.4</td><td>1.9</td><td>0.2</td><td>setosa</td></tr><tr><th>26</th><td>5.0</td><td>3.0</td><td>1.6</td><td>0.2</td><td>setosa</td></tr><tr><th>27</th><td>5.0</td><td>3.4</td><td>1.6</td><td>0.4</td><td>setosa</td></tr><tr><th>28</th><td>5.2</td><td>3.5</td><td>1.5</td><td>0.2</td><td>setosa</td></tr><tr><th>29</th><td>5.2</td><td>3.4</td><td>1.4</td><td>0.2</td><td>setosa</td></tr><tr><th>30</th><td>4.7</td><td>3.2</td><td>1.6</td><td>0.2</td><td>setosa</td></tr><tr><th>&vellip;</th><td>&vellip;</td><td>&vellip;</td><td>&vellip;</td><td>&vellip;</td><td>&vellip;</td></tr></tbody></table>"
      ],
      "text/latex": [
       "\\begin{tabular}{r|ccccc}\n",
       "\t& sepal\\_length & sepal\\_width & petal\\_length & petal\\_width & species\\\\\n",
       "\t\\hline\n",
       "\t& Float64 & Float64 & Float64 & Float64 & String\\\\\n",
       "\t\\hline\n",
       "\t1 & 5.1 & 3.5 & 1.4 & 0.2 & setosa \\\\\n",
       "\t2 & 4.9 & 3.0 & 1.4 & 0.2 & setosa \\\\\n",
       "\t3 & 4.7 & 3.2 & 1.3 & 0.2 & setosa \\\\\n",
       "\t4 & 4.6 & 3.1 & 1.5 & 0.2 & setosa \\\\\n",
       "\t5 & 5.0 & 3.6 & 1.4 & 0.2 & setosa \\\\\n",
       "\t6 & 5.4 & 3.9 & 1.7 & 0.4 & setosa \\\\\n",
       "\t7 & 4.6 & 3.4 & 1.4 & 0.3 & setosa \\\\\n",
       "\t8 & 5.0 & 3.4 & 1.5 & 0.2 & setosa \\\\\n",
       "\t9 & 4.4 & 2.9 & 1.4 & 0.2 & setosa \\\\\n",
       "\t10 & 4.9 & 3.1 & 1.5 & 0.1 & setosa \\\\\n",
       "\t11 & 5.4 & 3.7 & 1.5 & 0.2 & setosa \\\\\n",
       "\t12 & 4.8 & 3.4 & 1.6 & 0.2 & setosa \\\\\n",
       "\t13 & 4.8 & 3.0 & 1.4 & 0.1 & setosa \\\\\n",
       "\t14 & 4.3 & 3.0 & 1.1 & 0.1 & setosa \\\\\n",
       "\t15 & 5.8 & 4.0 & 1.2 & 0.2 & setosa \\\\\n",
       "\t16 & 5.7 & 4.4 & 1.5 & 0.4 & setosa \\\\\n",
       "\t17 & 5.4 & 3.9 & 1.3 & 0.4 & setosa \\\\\n",
       "\t18 & 5.1 & 3.5 & 1.4 & 0.3 & setosa \\\\\n",
       "\t19 & 5.7 & 3.8 & 1.7 & 0.3 & setosa \\\\\n",
       "\t20 & 5.1 & 3.8 & 1.5 & 0.3 & setosa \\\\\n",
       "\t21 & 5.4 & 3.4 & 1.7 & 0.2 & setosa \\\\\n",
       "\t22 & 5.1 & 3.7 & 1.5 & 0.4 & setosa \\\\\n",
       "\t23 & 4.6 & 3.6 & 1.0 & 0.2 & setosa \\\\\n",
       "\t24 & 5.1 & 3.3 & 1.7 & 0.5 & setosa \\\\\n",
       "\t25 & 4.8 & 3.4 & 1.9 & 0.2 & setosa \\\\\n",
       "\t26 & 5.0 & 3.0 & 1.6 & 0.2 & setosa \\\\\n",
       "\t27 & 5.0 & 3.4 & 1.6 & 0.4 & setosa \\\\\n",
       "\t28 & 5.2 & 3.5 & 1.5 & 0.2 & setosa \\\\\n",
       "\t29 & 5.2 & 3.4 & 1.4 & 0.2 & setosa \\\\\n",
       "\t30 & 4.7 & 3.2 & 1.6 & 0.2 & setosa \\\\\n",
       "\t$\\dots$ & $\\dots$ & $\\dots$ & $\\dots$ & $\\dots$ & $\\dots$ \\\\\n",
       "\\end{tabular}\n"
      ],
      "text/plain": [
       "150×5 DataFrame\n",
       "│ Row │ sepal_length │ sepal_width │ petal_length │ petal_width │ species   │\n",
       "│     │ \u001b[90mFloat64\u001b[39m      │ \u001b[90mFloat64\u001b[39m     │ \u001b[90mFloat64\u001b[39m      │ \u001b[90mFloat64\u001b[39m     │ \u001b[90mString\u001b[39m    │\n",
       "├─────┼──────────────┼─────────────┼──────────────┼─────────────┼───────────┤\n",
       "│ 1   │ 5.1          │ 3.5         │ 1.4          │ 0.2         │ setosa    │\n",
       "│ 2   │ 4.9          │ 3.0         │ 1.4          │ 0.2         │ setosa    │\n",
       "│ 3   │ 4.7          │ 3.2         │ 1.3          │ 0.2         │ setosa    │\n",
       "│ 4   │ 4.6          │ 3.1         │ 1.5          │ 0.2         │ setosa    │\n",
       "│ 5   │ 5.0          │ 3.6         │ 1.4          │ 0.2         │ setosa    │\n",
       "│ 6   │ 5.4          │ 3.9         │ 1.7          │ 0.4         │ setosa    │\n",
       "│ 7   │ 4.6          │ 3.4         │ 1.4          │ 0.3         │ setosa    │\n",
       "│ 8   │ 5.0          │ 3.4         │ 1.5          │ 0.2         │ setosa    │\n",
       "│ 9   │ 4.4          │ 2.9         │ 1.4          │ 0.2         │ setosa    │\n",
       "│ 10  │ 4.9          │ 3.1         │ 1.5          │ 0.1         │ setosa    │\n",
       "⋮\n",
       "│ 140 │ 6.9          │ 3.1         │ 5.4          │ 2.1         │ virginica │\n",
       "│ 141 │ 6.7          │ 3.1         │ 5.6          │ 2.4         │ virginica │\n",
       "│ 142 │ 6.9          │ 3.1         │ 5.1          │ 2.3         │ virginica │\n",
       "│ 143 │ 5.8          │ 2.7         │ 5.1          │ 1.9         │ virginica │\n",
       "│ 144 │ 6.8          │ 3.2         │ 5.9          │ 2.3         │ virginica │\n",
       "│ 145 │ 6.7          │ 3.3         │ 5.7          │ 2.5         │ virginica │\n",
       "│ 146 │ 6.7          │ 3.0         │ 5.2          │ 2.3         │ virginica │\n",
       "│ 147 │ 6.3          │ 2.5         │ 5.0          │ 1.9         │ virginica │\n",
       "│ 148 │ 6.5          │ 3.0         │ 5.2          │ 2.0         │ virginica │\n",
       "│ 149 │ 6.2          │ 3.4         │ 5.4          │ 2.3         │ virginica │\n",
       "│ 150 │ 5.9          │ 3.0         │ 5.1          │ 1.8         │ virginica │"
      ]
     },
     "execution_count": 16,
     "metadata": {},
     "output_type": "execute_result"
    }
   ],
   "source": [
    "iris = CSV.read(\"iris.csv\", normalizenames = true)"
   ]
  },
  {
   "cell_type": "code",
   "execution_count": 17,
   "metadata": {},
   "outputs": [
    {
     "data": {
      "text/plain": [
       "DataFrames.DataFrame"
      ]
     },
     "execution_count": 17,
     "metadata": {},
     "output_type": "execute_result"
    }
   ],
   "source": [
    "typeof(iris)"
   ]
  },
  {
   "cell_type": "code",
   "execution_count": 19,
   "metadata": {},
   "outputs": [
    {
     "data": {
      "text/plain": [
       "5-element Array{String,1}:\n",
       " \"sepal_length\"\n",
       " \"sepal_width\"\n",
       " \"petal_length\"\n",
       " \"petal_width\"\n",
       " \"species\""
      ]
     },
     "execution_count": 19,
     "metadata": {},
     "output_type": "execute_result"
    }
   ],
   "source": [
    "names(iris)"
   ]
  },
  {
   "cell_type": "code",
   "execution_count": 21,
   "metadata": {},
   "outputs": [
    {
     "data": {
      "text/plain": [
       "(150, 5)"
      ]
     },
     "execution_count": 21,
     "metadata": {},
     "output_type": "execute_result"
    }
   ],
   "source": [
    "size(iris)"
   ]
  },
  {
   "cell_type": "code",
   "execution_count": 24,
   "metadata": {
    "scrolled": true
   },
   "outputs": [
    {
     "data": {
      "text/html": [
       "<table class=\"data-frame\"><thead><tr><th></th><th>sepal_length</th><th>sepal_width</th><th>petal_length</th><th>petal_width</th><th>species</th></tr><tr><th></th><th>Float64</th><th>Float64</th><th>Float64</th><th>Float64</th><th>String</th></tr></thead><tbody><p>5 rows × 5 columns</p><tr><th>1</th><td>5.1</td><td>3.5</td><td>1.4</td><td>0.2</td><td>setosa</td></tr><tr><th>2</th><td>4.9</td><td>3.0</td><td>1.4</td><td>0.2</td><td>setosa</td></tr><tr><th>3</th><td>4.7</td><td>3.2</td><td>1.3</td><td>0.2</td><td>setosa</td></tr><tr><th>4</th><td>4.6</td><td>3.1</td><td>1.5</td><td>0.2</td><td>setosa</td></tr><tr><th>5</th><td>5.0</td><td>3.6</td><td>1.4</td><td>0.2</td><td>setosa</td></tr></tbody></table>"
      ],
      "text/latex": [
       "\\begin{tabular}{r|ccccc}\n",
       "\t& sepal\\_length & sepal\\_width & petal\\_length & petal\\_width & species\\\\\n",
       "\t\\hline\n",
       "\t& Float64 & Float64 & Float64 & Float64 & String\\\\\n",
       "\t\\hline\n",
       "\t1 & 5.1 & 3.5 & 1.4 & 0.2 & setosa \\\\\n",
       "\t2 & 4.9 & 3.0 & 1.4 & 0.2 & setosa \\\\\n",
       "\t3 & 4.7 & 3.2 & 1.3 & 0.2 & setosa \\\\\n",
       "\t4 & 4.6 & 3.1 & 1.5 & 0.2 & setosa \\\\\n",
       "\t5 & 5.0 & 3.6 & 1.4 & 0.2 & setosa \\\\\n",
       "\\end{tabular}\n"
      ],
      "text/plain": [
       "5×5 DataFrame\n",
       "│ Row │ sepal_length │ sepal_width │ petal_length │ petal_width │ species │\n",
       "│     │ \u001b[90mFloat64\u001b[39m      │ \u001b[90mFloat64\u001b[39m     │ \u001b[90mFloat64\u001b[39m      │ \u001b[90mFloat64\u001b[39m     │ \u001b[90mString\u001b[39m  │\n",
       "├─────┼──────────────┼─────────────┼──────────────┼─────────────┼─────────┤\n",
       "│ 1   │ 5.1          │ 3.5         │ 1.4          │ 0.2         │ setosa  │\n",
       "│ 2   │ 4.9          │ 3.0         │ 1.4          │ 0.2         │ setosa  │\n",
       "│ 3   │ 4.7          │ 3.2         │ 1.3          │ 0.2         │ setosa  │\n",
       "│ 4   │ 4.6          │ 3.1         │ 1.5          │ 0.2         │ setosa  │\n",
       "│ 5   │ 5.0          │ 3.6         │ 1.4          │ 0.2         │ setosa  │"
      ]
     },
     "execution_count": 24,
     "metadata": {},
     "output_type": "execute_result"
    }
   ],
   "source": [
    "using DataFrames\n",
    "head(iris, 5)"
   ]
  },
  {
   "cell_type": "code",
   "execution_count": 25,
   "metadata": {
    "scrolled": true
   },
   "outputs": [
    {
     "data": {
      "text/html": [
       "<table class=\"data-frame\"><thead><tr><th></th><th>variable</th><th>mean</th><th>min</th><th>median</th><th>max</th><th>nunique</th><th>nmissing</th><th>eltype</th></tr><tr><th></th><th>Symbol</th><th>Union…</th><th>Any</th><th>Union…</th><th>Any</th><th>Union…</th><th>Nothing</th><th>DataType</th></tr></thead><tbody><p>5 rows × 8 columns</p><tr><th>1</th><td>sepal_length</td><td>5.84333</td><td>4.3</td><td>5.8</td><td>7.9</td><td></td><td></td><td>Float64</td></tr><tr><th>2</th><td>sepal_width</td><td>3.054</td><td>2.0</td><td>3.0</td><td>4.4</td><td></td><td></td><td>Float64</td></tr><tr><th>3</th><td>petal_length</td><td>3.75867</td><td>1.0</td><td>4.35</td><td>6.9</td><td></td><td></td><td>Float64</td></tr><tr><th>4</th><td>petal_width</td><td>1.19867</td><td>0.1</td><td>1.3</td><td>2.5</td><td></td><td></td><td>Float64</td></tr><tr><th>5</th><td>species</td><td></td><td>setosa</td><td></td><td>virginica</td><td>3</td><td></td><td>String</td></tr></tbody></table>"
      ],
      "text/latex": [
       "\\begin{tabular}{r|cccccccc}\n",
       "\t& variable & mean & min & median & max & nunique & nmissing & eltype\\\\\n",
       "\t\\hline\n",
       "\t& Symbol & Union… & Any & Union… & Any & Union… & Nothing & DataType\\\\\n",
       "\t\\hline\n",
       "\t1 & sepal\\_length & 5.84333 & 4.3 & 5.8 & 7.9 &  &  & Float64 \\\\\n",
       "\t2 & sepal\\_width & 3.054 & 2.0 & 3.0 & 4.4 &  &  & Float64 \\\\\n",
       "\t3 & petal\\_length & 3.75867 & 1.0 & 4.35 & 6.9 &  &  & Float64 \\\\\n",
       "\t4 & petal\\_width & 1.19867 & 0.1 & 1.3 & 2.5 &  &  & Float64 \\\\\n",
       "\t5 & species &  & setosa &  & virginica & 3 &  & String \\\\\n",
       "\\end{tabular}\n"
      ],
      "text/plain": [
       "5×8 DataFrame. Omitted printing of 2 columns\n",
       "│ Row │ variable     │ mean    │ min    │ median │ max       │ nunique │\n",
       "│     │ \u001b[90mSymbol\u001b[39m       │ \u001b[90mUnion…\u001b[39m  │ \u001b[90mAny\u001b[39m    │ \u001b[90mUnion…\u001b[39m │ \u001b[90mAny\u001b[39m       │ \u001b[90mUnion…\u001b[39m  │\n",
       "├─────┼──────────────┼─────────┼────────┼────────┼───────────┼─────────┤\n",
       "│ 1   │ sepal_length │ 5.84333 │ 4.3    │ 5.8    │ 7.9       │         │\n",
       "│ 2   │ sepal_width  │ 3.054   │ 2.0    │ 3.0    │ 4.4       │         │\n",
       "│ 3   │ petal_length │ 3.75867 │ 1.0    │ 4.35   │ 6.9       │         │\n",
       "│ 4   │ petal_width  │ 1.19867 │ 0.1    │ 1.3    │ 2.5       │         │\n",
       "│ 5   │ species      │         │ setosa │        │ virginica │ 3       │"
      ]
     },
     "execution_count": 25,
     "metadata": {},
     "output_type": "execute_result"
    }
   ],
   "source": [
    "describe(iris)"
   ]
  },
  {
   "cell_type": "code",
   "execution_count": 27,
   "metadata": {
    "scrolled": true
   },
   "outputs": [
    {
     "data": {
      "text/plain": [
       "150-element Array{Float64,1}:\n",
       " 1.4\n",
       " 1.4\n",
       " 1.3\n",
       " 1.5\n",
       " 1.4\n",
       " 1.7\n",
       " 1.4\n",
       " 1.5\n",
       " 1.4\n",
       " 1.5\n",
       " 1.5\n",
       " 1.6\n",
       " 1.4\n",
       " ⋮\n",
       " 4.8\n",
       " 5.4\n",
       " 5.6\n",
       " 5.1\n",
       " 5.1\n",
       " 5.9\n",
       " 5.7\n",
       " 5.2\n",
       " 5.0\n",
       " 5.2\n",
       " 5.4\n",
       " 5.1"
      ]
     },
     "execution_count": 27,
     "metadata": {},
     "output_type": "execute_result"
    }
   ],
   "source": [
    "iris.petal_length"
   ]
  },
  {
   "cell_type": "code",
   "execution_count": 32,
   "metadata": {
    "scrolled": true
   },
   "outputs": [
    {
     "data": {
      "text/html": [
       "<table class=\"data-frame\"><thead><tr><th></th><th>sepal_length</th><th>sepal_width</th><th>petal_length</th></tr><tr><th></th><th>Float64</th><th>Float64</th><th>Float64</th></tr></thead><tbody><p>150 rows × 3 columns</p><tr><th>1</th><td>5.1</td><td>3.5</td><td>1.4</td></tr><tr><th>2</th><td>4.9</td><td>3.0</td><td>1.4</td></tr><tr><th>3</th><td>4.7</td><td>3.2</td><td>1.3</td></tr><tr><th>4</th><td>4.6</td><td>3.1</td><td>1.5</td></tr><tr><th>5</th><td>5.0</td><td>3.6</td><td>1.4</td></tr><tr><th>6</th><td>5.4</td><td>3.9</td><td>1.7</td></tr><tr><th>7</th><td>4.6</td><td>3.4</td><td>1.4</td></tr><tr><th>8</th><td>5.0</td><td>3.4</td><td>1.5</td></tr><tr><th>9</th><td>4.4</td><td>2.9</td><td>1.4</td></tr><tr><th>10</th><td>4.9</td><td>3.1</td><td>1.5</td></tr><tr><th>11</th><td>5.4</td><td>3.7</td><td>1.5</td></tr><tr><th>12</th><td>4.8</td><td>3.4</td><td>1.6</td></tr><tr><th>13</th><td>4.8</td><td>3.0</td><td>1.4</td></tr><tr><th>14</th><td>4.3</td><td>3.0</td><td>1.1</td></tr><tr><th>15</th><td>5.8</td><td>4.0</td><td>1.2</td></tr><tr><th>16</th><td>5.7</td><td>4.4</td><td>1.5</td></tr><tr><th>17</th><td>5.4</td><td>3.9</td><td>1.3</td></tr><tr><th>18</th><td>5.1</td><td>3.5</td><td>1.4</td></tr><tr><th>19</th><td>5.7</td><td>3.8</td><td>1.7</td></tr><tr><th>20</th><td>5.1</td><td>3.8</td><td>1.5</td></tr><tr><th>21</th><td>5.4</td><td>3.4</td><td>1.7</td></tr><tr><th>22</th><td>5.1</td><td>3.7</td><td>1.5</td></tr><tr><th>23</th><td>4.6</td><td>3.6</td><td>1.0</td></tr><tr><th>24</th><td>5.1</td><td>3.3</td><td>1.7</td></tr><tr><th>25</th><td>4.8</td><td>3.4</td><td>1.9</td></tr><tr><th>26</th><td>5.0</td><td>3.0</td><td>1.6</td></tr><tr><th>27</th><td>5.0</td><td>3.4</td><td>1.6</td></tr><tr><th>28</th><td>5.2</td><td>3.5</td><td>1.5</td></tr><tr><th>29</th><td>5.2</td><td>3.4</td><td>1.4</td></tr><tr><th>30</th><td>4.7</td><td>3.2</td><td>1.6</td></tr><tr><th>&vellip;</th><td>&vellip;</td><td>&vellip;</td><td>&vellip;</td></tr></tbody></table>"
      ],
      "text/latex": [
       "\\begin{tabular}{r|ccc}\n",
       "\t& sepal\\_length & sepal\\_width & petal\\_length\\\\\n",
       "\t\\hline\n",
       "\t& Float64 & Float64 & Float64\\\\\n",
       "\t\\hline\n",
       "\t1 & 5.1 & 3.5 & 1.4 \\\\\n",
       "\t2 & 4.9 & 3.0 & 1.4 \\\\\n",
       "\t3 & 4.7 & 3.2 & 1.3 \\\\\n",
       "\t4 & 4.6 & 3.1 & 1.5 \\\\\n",
       "\t5 & 5.0 & 3.6 & 1.4 \\\\\n",
       "\t6 & 5.4 & 3.9 & 1.7 \\\\\n",
       "\t7 & 4.6 & 3.4 & 1.4 \\\\\n",
       "\t8 & 5.0 & 3.4 & 1.5 \\\\\n",
       "\t9 & 4.4 & 2.9 & 1.4 \\\\\n",
       "\t10 & 4.9 & 3.1 & 1.5 \\\\\n",
       "\t11 & 5.4 & 3.7 & 1.5 \\\\\n",
       "\t12 & 4.8 & 3.4 & 1.6 \\\\\n",
       "\t13 & 4.8 & 3.0 & 1.4 \\\\\n",
       "\t14 & 4.3 & 3.0 & 1.1 \\\\\n",
       "\t15 & 5.8 & 4.0 & 1.2 \\\\\n",
       "\t16 & 5.7 & 4.4 & 1.5 \\\\\n",
       "\t17 & 5.4 & 3.9 & 1.3 \\\\\n",
       "\t18 & 5.1 & 3.5 & 1.4 \\\\\n",
       "\t19 & 5.7 & 3.8 & 1.7 \\\\\n",
       "\t20 & 5.1 & 3.8 & 1.5 \\\\\n",
       "\t21 & 5.4 & 3.4 & 1.7 \\\\\n",
       "\t22 & 5.1 & 3.7 & 1.5 \\\\\n",
       "\t23 & 4.6 & 3.6 & 1.0 \\\\\n",
       "\t24 & 5.1 & 3.3 & 1.7 \\\\\n",
       "\t25 & 4.8 & 3.4 & 1.9 \\\\\n",
       "\t26 & 5.0 & 3.0 & 1.6 \\\\\n",
       "\t27 & 5.0 & 3.4 & 1.6 \\\\\n",
       "\t28 & 5.2 & 3.5 & 1.5 \\\\\n",
       "\t29 & 5.2 & 3.4 & 1.4 \\\\\n",
       "\t30 & 4.7 & 3.2 & 1.6 \\\\\n",
       "\t$\\dots$ & $\\dots$ & $\\dots$ & $\\dots$ \\\\\n",
       "\\end{tabular}\n"
      ],
      "text/plain": [
       "150×3 DataFrame\n",
       "│ Row │ sepal_length │ sepal_width │ petal_length │\n",
       "│     │ \u001b[90mFloat64\u001b[39m      │ \u001b[90mFloat64\u001b[39m     │ \u001b[90mFloat64\u001b[39m      │\n",
       "├─────┼──────────────┼─────────────┼──────────────┤\n",
       "│ 1   │ 5.1          │ 3.5         │ 1.4          │\n",
       "│ 2   │ 4.9          │ 3.0         │ 1.4          │\n",
       "│ 3   │ 4.7          │ 3.2         │ 1.3          │\n",
       "│ 4   │ 4.6          │ 3.1         │ 1.5          │\n",
       "│ 5   │ 5.0          │ 3.6         │ 1.4          │\n",
       "│ 6   │ 5.4          │ 3.9         │ 1.7          │\n",
       "│ 7   │ 4.6          │ 3.4         │ 1.4          │\n",
       "│ 8   │ 5.0          │ 3.4         │ 1.5          │\n",
       "│ 9   │ 4.4          │ 2.9         │ 1.4          │\n",
       "│ 10  │ 4.9          │ 3.1         │ 1.5          │\n",
       "⋮\n",
       "│ 140 │ 6.9          │ 3.1         │ 5.4          │\n",
       "│ 141 │ 6.7          │ 3.1         │ 5.6          │\n",
       "│ 142 │ 6.9          │ 3.1         │ 5.1          │\n",
       "│ 143 │ 5.8          │ 2.7         │ 5.1          │\n",
       "│ 144 │ 6.8          │ 3.2         │ 5.9          │\n",
       "│ 145 │ 6.7          │ 3.3         │ 5.7          │\n",
       "│ 146 │ 6.7          │ 3.0         │ 5.2          │\n",
       "│ 147 │ 6.3          │ 2.5         │ 5.0          │\n",
       "│ 148 │ 6.5          │ 3.0         │ 5.2          │\n",
       "│ 149 │ 6.2          │ 3.4         │ 5.4          │\n",
       "│ 150 │ 5.9          │ 3.0         │ 5.1          │"
      ]
     },
     "execution_count": 32,
     "metadata": {},
     "output_type": "execute_result"
    }
   ],
   "source": [
    "iris[:,[1,2,3]]"
   ]
  },
  {
   "cell_type": "code",
   "execution_count": null,
   "metadata": {},
   "outputs": [],
   "source": []
  }
 ],
 "metadata": {
  "kernelspec": {
   "display_name": "Julia 1.5.1",
   "language": "julia",
   "name": "julia-1.5"
  },
  "language_info": {
   "file_extension": ".jl",
   "mimetype": "application/julia",
   "name": "julia",
   "version": "1.5.2"
  }
 },
 "nbformat": 4,
 "nbformat_minor": 4
}
